{
  "nbformat": 4,
  "nbformat_minor": 0,
  "metadata": {
    "colab": {
      "provenance": [],
      "authorship_tag": "ABX9TyMAagAsZ1mV3TItDIf4VEWK",
      "include_colab_link": true
    },
    "kernelspec": {
      "name": "python3",
      "display_name": "Python 3"
    },
    "language_info": {
      "name": "python"
    }
  },
  "cells": [
    {
      "cell_type": "markdown",
      "metadata": {
        "id": "view-in-github",
        "colab_type": "text"
      },
      "source": [
        "<a href=\"https://colab.research.google.com/github/Dougu77/Fadergs_Extensao_Python/blob/main/ex001.ipynb\" target=\"_parent\"><img src=\"https://colab.research.google.com/assets/colab-badge.svg\" alt=\"Open In Colab\"/></a>"
      ]
    },
    {
      "cell_type": "code",
      "execution_count": 1,
      "metadata": {
        "id": "vlyJOUZeWSkr"
      },
      "outputs": [],
      "source": [
        "# Importando biblioteca pandas no Python\n",
        "\n",
        "import pandas as pd\n",
        "\n",
        "combustiveis_df = pd.read_excel(\"ca-2021-02.xlsx\")"
      ]
    },
    {
      "cell_type": "code",
      "source": [
        "# Usa o print para ver o dataframe!\n",
        "\n",
        "print(combustiveis_df)"
      ],
      "metadata": {
        "id": "gahkLwjOWwHO"
      },
      "execution_count": null,
      "outputs": []
    },
    {
      "cell_type": "code",
      "source": [
        "display(combustiveis_df)"
      ],
      "metadata": {
        "id": "uuPszdH1Wx_t"
      },
      "execution_count": null,
      "outputs": []
    },
    {
      "cell_type": "code",
      "source": [
        "#Exibe as primeiras 5 linhas\n",
        "\n",
        "display(combustiveis_df.head())"
      ],
      "metadata": {
        "id": "63ndiYv6W1_l"
      },
      "execution_count": null,
      "outputs": []
    },
    {
      "cell_type": "code",
      "source": [
        "# Quero, na verdade, exibir as primeiras 15 linhas\n",
        "\n",
        "display(combustiveis_df.head(15))"
      ],
      "metadata": {
        "id": "hRcI5_EPW4Im"
      },
      "execution_count": null,
      "outputs": []
    },
    {
      "cell_type": "code",
      "source": [
        "# Comandos Dataframe.shape e Dataframe.describe()\n",
        "\n",
        "print(combustiveis_df.shape)\n",
        "\n",
        "# Mostra o número de linhas e colunas (linhas, colunas)"
      ],
      "metadata": {
        "id": "3hz-lAmxW64u"
      },
      "execution_count": null,
      "outputs": []
    },
    {
      "cell_type": "code",
      "source": [
        "#Quais são as colunas e que tipo de dados cada um tem\n",
        "\n",
        "print(combustiveis_df.info())"
      ],
      "metadata": {
        "id": "mW7NcApOXbhu"
      },
      "execution_count": null,
      "outputs": []
    },
    {
      "cell_type": "code",
      "source": [
        "# describe() mostra as estastísticas \"mais basícas\" que a gente precisa\n",
        "\n",
        "print(combustiveis_df.describe())"
      ],
      "metadata": {
        "id": "BHie2lLAXfCd"
      },
      "execution_count": null,
      "outputs": []
    },
    {
      "cell_type": "code",
      "source": [
        "# Filtrar apenas por uma coluna\n",
        "\n",
        "display(combustiveis_df['Revenda'])"
      ],
      "metadata": {
        "id": "BFVgWG7gYEFt"
      },
      "execution_count": null,
      "outputs": []
    },
    {
      "cell_type": "code",
      "source": [
        "#Aqui criamos um novo dataframe apenas com as colunas que eu quero\n",
        "\n",
        "ca_df = combustiveis_df[['Revenda', 'Municipio', 'Produto', 'Valor de Venda']] \n",
        "display(ca_df)"
      ],
      "metadata": {
        "id": "SLbf2xmpYSK7"
      },
      "execution_count": null,
      "outputs": []
    },
    {
      "cell_type": "code",
      "source": [
        "#Exibe a 4a. linha\n",
        "\n",
        "display(ca_df.loc[3])"
      ],
      "metadata": {
        "id": "5PbvmrO8YZx1"
      },
      "execution_count": null,
      "outputs": []
    },
    {
      "cell_type": "code",
      "source": [
        "#Exibir da 10a. linha até a 20a. linha\n",
        "\n",
        "display(ca_df.loc[9:19])"
      ],
      "metadata": {
        "id": "1EBfYZnXYrqc"
      },
      "execution_count": null,
      "outputs": []
    },
    {
      "cell_type": "code",
      "source": [
        "# Criar um dataframe gas_df contendo \n",
        "# Apenas as 4 colunas (Revenda, Municipio, Produto, Valor de Venda)\n",
        "# Somente com combustível sendo GASOLINA e exibir na tela\n",
        "\n",
        "gas_df = ca_df.loc[ca_df['Produto'] == 'GASOLINA']\n",
        "display(gas_df)\n",
        "display(gas_df['Valor de Venda'].max())"
      ],
      "metadata": {
        "id": "O473x2qtYw3c"
      },
      "execution_count": null,
      "outputs": []
    },
    {
      "cell_type": "code",
      "source": [
        "# DataFrame.loc[] com múltiplas condições para filtragem\n",
        "# Quais são os preços, postos que vendem ETANOL na minha cidade (INDAIATUBA) \n",
        "# Ordenado do menor valor de venda para o maior\n",
        "\n",
        "etanol_indaiatuba_df = ca_df.loc[(ca_df['Produto'] == 'ETANOL') & (ca_df['Municipio'] == 'INDAIATUBA')]\n",
        "display(etanol_indaiatuba_df.sort_values(by='Valor de Venda'))"
      ],
      "metadata": {
        "id": "h3A3g2hAZ7uU"
      },
      "execution_count": null,
      "outputs": []
    },
    {
      "cell_type": "code",
      "source": [
        "# Qual a média de preços dos combustíveis GASOLINA e GASOLINA ADITIVADA do Bairro MOOCA em SÃO PAULO?\n",
        "\n",
        "display(combustiveis_df.loc[(combustiveis_df['Bairro'] == 'MOOCA') & \n",
        "                            (combustiveis_df['Municipio'] == 'SAO PAULO') & \n",
        "                            ((combustiveis_df['Produto'] == 'GASOLINA') | (combustiveis_df['Produto'] == 'GASOLINA ADITIVADA')), \n",
        "                            ['Valor de Venda']].mean())"
      ],
      "metadata": {
        "id": "tLWxh_fNbW3E"
      },
      "execution_count": null,
      "outputs": []
    },
    {
      "cell_type": "code",
      "source": [
        "# Como mostrar média de valor de venda POR COMBUSTÍVEL Brasil todo?\n",
        "\n",
        "media_por_combustivel_df = ca_df[['Produto', 'Valor de Venda']].groupby(by='Produto').mean().round(2)\n",
        "display(media_por_combustivel_df)"
      ],
      "metadata": {
        "id": "vzmHygKTbcA7"
      },
      "execution_count": null,
      "outputs": []
    },
    {
      "cell_type": "code",
      "source": [
        "# Quero adicionar uma coluna de valor booleano no combustiveis_df\n",
        "# Chamada \"Ativo\" que, por padrão, vai ser True para TODAS as linhas\n",
        "\n",
        "combustiveis_df['Ativo'] = True\n",
        "print(combustiveis_df.info())\n",
        "display(combustiveis_df.head())"
      ],
      "metadata": {
        "id": "XmST9Yv6bgnK"
      },
      "execution_count": null,
      "outputs": []
    },
    {
      "cell_type": "code",
      "source": [
        "# Exportar para Excel o dataframe com etanol em Indaiatuba\n",
        "\n",
        "etanol_indaiatuba_df.to_excel('etanol_indaiatuba.xlsx', sheet_name='Etanol em Indaiatuba')"
      ],
      "metadata": {
        "id": "jB1qZ7BSbpYi"
      },
      "execution_count": 22,
      "outputs": []
    }
  ]
}